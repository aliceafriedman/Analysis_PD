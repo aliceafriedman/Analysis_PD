{
 "cells": [
  {
   "cell_type": "markdown",
   "metadata": {},
   "source": [
    "## Analysis of NYPD Bike Summonses"
   ]
  },
  {
   "cell_type": "code",
   "execution_count": 2,
   "metadata": {},
   "outputs": [],
   "source": [
    "import pandas as pd\n",
    "import matplotlib.pyplot as plt\n",
    "import numpy as np\n",
    "import seaborn as sns"
   ]
  },
  {
   "cell_type": "markdown",
   "metadata": {},
   "source": [
    "Data source: [NYC Open Data](https://data.cityofnewyork.us/Public-Safety/NYPD-Criminal-Court-Summons-Historic-/sv2w-rv3k/data)\n",
    "\n",
    "Downloaded data with filter `SUMMONS_CATEGORY_TYPE == 'BIKE'`"
   ]
  },
  {
   "cell_type": "code",
   "execution_count": 3,
   "metadata": {},
   "outputs": [
    {
     "data": {
      "text/html": [
       "<div>\n",
       "<style scoped>\n",
       "    .dataframe tbody tr th:only-of-type {\n",
       "        vertical-align: middle;\n",
       "    }\n",
       "\n",
       "    .dataframe tbody tr th {\n",
       "        vertical-align: top;\n",
       "    }\n",
       "\n",
       "    .dataframe thead th {\n",
       "        text-align: right;\n",
       "    }\n",
       "</style>\n",
       "<table border=\"1\" class=\"dataframe\">\n",
       "  <thead>\n",
       "    <tr style=\"text-align: right;\">\n",
       "      <th></th>\n",
       "      <th>SUMMONS_KEY</th>\n",
       "      <th>SUMMONS_DATE</th>\n",
       "      <th>OFFENSE_DESCRIPTION</th>\n",
       "      <th>LAW_SECTION_NUMBER</th>\n",
       "      <th>LAW_DESCRIPTION</th>\n",
       "      <th>SUMMONS_CATEGORY_TYPE</th>\n",
       "      <th>AGE_GROUP</th>\n",
       "      <th>SEX</th>\n",
       "      <th>RACE</th>\n",
       "      <th>JURISDICTION_CODE</th>\n",
       "      <th>BORO</th>\n",
       "      <th>PRECINCT_OF_OCCUR</th>\n",
       "      <th>X_COORDINATE_CD</th>\n",
       "      <th>Y_COORDINATE_CD</th>\n",
       "      <th>Latitude</th>\n",
       "      <th>Longitude</th>\n",
       "      <th>Lon_Lat</th>\n",
       "    </tr>\n",
       "  </thead>\n",
       "  <tbody>\n",
       "    <tr>\n",
       "      <th>0</th>\n",
       "      <td>44458013</td>\n",
       "      <td>03/10/2008</td>\n",
       "      <td>BICYCLE ON SIDEWALK</td>\n",
       "      <td>19-176</td>\n",
       "      <td>Administrative Code</td>\n",
       "      <td>BIKE</td>\n",
       "      <td>25-44</td>\n",
       "      <td>M</td>\n",
       "      <td>UNKNOWN</td>\n",
       "      <td>2</td>\n",
       "      <td>BRONX</td>\n",
       "      <td>47</td>\n",
       "      <td>1021458</td>\n",
       "      <td>258089</td>\n",
       "      <td>40.874999</td>\n",
       "      <td>-73.865459</td>\n",
       "      <td>POINT (-73.86545934099996 40.87499887300004)</td>\n",
       "    </tr>\n",
       "    <tr>\n",
       "      <th>1</th>\n",
       "      <td>44546362</td>\n",
       "      <td>03/14/2008</td>\n",
       "      <td>BICYCLE ON SIDEWALK</td>\n",
       "      <td>19-176</td>\n",
       "      <td>Administrative Code</td>\n",
       "      <td>BIKE</td>\n",
       "      <td>25-44</td>\n",
       "      <td>M</td>\n",
       "      <td>UNKNOWN</td>\n",
       "      <td>0</td>\n",
       "      <td>BROOKLYN</td>\n",
       "      <td>79</td>\n",
       "      <td>995908</td>\n",
       "      <td>187609</td>\n",
       "      <td>40.681621</td>\n",
       "      <td>-73.957969</td>\n",
       "      <td>POINT (-73.95796900499995 40.68162066800004)</td>\n",
       "    </tr>\n",
       "    <tr>\n",
       "      <th>2</th>\n",
       "      <td>44627549</td>\n",
       "      <td>03/17/2008</td>\n",
       "      <td>BICYCLE ON SIDEWALK</td>\n",
       "      <td>19-176</td>\n",
       "      <td>Administrative Code</td>\n",
       "      <td>BIKE</td>\n",
       "      <td>18-24</td>\n",
       "      <td>M</td>\n",
       "      <td>UNKNOWN</td>\n",
       "      <td>0</td>\n",
       "      <td>MANHATTAN</td>\n",
       "      <td>30</td>\n",
       "      <td>997701</td>\n",
       "      <td>239900</td>\n",
       "      <td>40.825144</td>\n",
       "      <td>-73.951400</td>\n",
       "      <td>POINT (-73.95139982299997 40.825143625000074)</td>\n",
       "    </tr>\n",
       "  </tbody>\n",
       "</table>\n",
       "</div>"
      ],
      "text/plain": [
       "   SUMMONS_KEY SUMMONS_DATE  OFFENSE_DESCRIPTION LAW_SECTION_NUMBER  \\\n",
       "0     44458013   03/10/2008  BICYCLE ON SIDEWALK             19-176   \n",
       "1     44546362   03/14/2008  BICYCLE ON SIDEWALK             19-176   \n",
       "2     44627549   03/17/2008  BICYCLE ON SIDEWALK             19-176   \n",
       "\n",
       "       LAW_DESCRIPTION SUMMONS_CATEGORY_TYPE AGE_GROUP SEX     RACE  \\\n",
       "0  Administrative Code                  BIKE     25-44   M  UNKNOWN   \n",
       "1  Administrative Code                  BIKE     25-44   M  UNKNOWN   \n",
       "2  Administrative Code                  BIKE     18-24   M  UNKNOWN   \n",
       "\n",
       "   JURISDICTION_CODE       BORO  PRECINCT_OF_OCCUR  X_COORDINATE_CD  \\\n",
       "0                  2      BRONX                 47          1021458   \n",
       "1                  0   BROOKLYN                 79           995908   \n",
       "2                  0  MANHATTAN                 30           997701   \n",
       "\n",
       "   Y_COORDINATE_CD   Latitude  Longitude  \\\n",
       "0           258089  40.874999 -73.865459   \n",
       "1           187609  40.681621 -73.957969   \n",
       "2           239900  40.825144 -73.951400   \n",
       "\n",
       "                                         Lon_Lat  \n",
       "0   POINT (-73.86545934099996 40.87499887300004)  \n",
       "1   POINT (-73.95796900499995 40.68162066800004)  \n",
       "2  POINT (-73.95139982299997 40.825143625000074)  "
      ]
     },
     "execution_count": 3,
     "metadata": {},
     "output_type": "execute_result"
    }
   ],
   "source": [
    "raw_summons = pd.read_csv('NYPD_Criminal_Court_Summons__Historic_.csv')\n",
    "raw_summons.head(3)"
   ]
  },
  {
   "cell_type": "code",
   "execution_count": 4,
   "metadata": {},
   "outputs": [
    {
     "data": {
      "text/plain": [
       "SUMMONS_KEY                int64\n",
       "SUMMONS_DATE              object\n",
       "OFFENSE_DESCRIPTION       object\n",
       "LAW_SECTION_NUMBER        object\n",
       "LAW_DESCRIPTION           object\n",
       "SUMMONS_CATEGORY_TYPE     object\n",
       "AGE_GROUP                 object\n",
       "SEX                       object\n",
       "RACE                      object\n",
       "JURISDICTION_CODE          int64\n",
       "BORO                      object\n",
       "PRECINCT_OF_OCCUR          int64\n",
       "X_COORDINATE_CD            int64\n",
       "Y_COORDINATE_CD            int64\n",
       "Latitude                 float64\n",
       "Longitude                float64\n",
       "Lon_Lat                   object\n",
       "dtype: object"
      ]
     },
     "execution_count": 4,
     "metadata": {},
     "output_type": "execute_result"
    }
   ],
   "source": [
    "raw_summons.dtypes"
   ]
  },
  {
   "cell_type": "code",
   "execution_count": 5,
   "metadata": {},
   "outputs": [
    {
     "data": {
      "text/plain": [
       "SUMMONS_KEY                       int64\n",
       "OFFENSE_DESCRIPTION              object\n",
       "LAW_SECTION_NUMBER               object\n",
       "LAW_DESCRIPTION                  object\n",
       "SUMMONS_CATEGORY_TYPE            object\n",
       "AGE_GROUP                        object\n",
       "SEX                              object\n",
       "RACE                             object\n",
       "JURISDICTION_CODE                 int64\n",
       "BORO                             object\n",
       "PRECINCT_OF_OCCUR                 int64\n",
       "X_COORDINATE_CD                   int64\n",
       "Y_COORDINATE_CD                   int64\n",
       "Latitude                        float64\n",
       "Longitude                       float64\n",
       "Lon_Lat                          object\n",
       "DATE                     datetime64[ns]\n",
       "YEAR                              int64\n",
       "dtype: object"
      ]
     },
     "execution_count": 5,
     "metadata": {},
     "output_type": "execute_result"
    }
   ],
   "source": [
    "df = raw_summons.copy()\n",
    "\n",
    "df['DATE'] = pd.to_datetime(df['SUMMONS_DATE'], infer_datetime_format=True)\n",
    "\n",
    "df['YEAR'] = df['DATE'].dt.year\n",
    "\n",
    "df = df.drop(columns=['SUMMONS_DATE']).sort_values('DATE')\n",
    "\n",
    "df.dtypes"
   ]
  },
  {
   "cell_type": "markdown",
   "metadata": {},
   "source": [
    "## Data Exploration\n",
    "\n",
    "Summons data available from Open Data (2006 through 2016) on Bike related infractions "
   ]
  },
  {
   "cell_type": "code",
   "execution_count": 6,
   "metadata": {
    "scrolled": true
   },
   "outputs": [
    {
     "data": {
      "text/plain": [
       "array(['BICYCLE ON SIDEWALK', 'BIKE IN PARK',\n",
       "       'BICYCLE INFRACTION (COMMERCIAL)', 'OPERATE BIKE ON SIDEWALK',\n",
       "       'NO BELL', 'FAIL TO AFIX ID TO BIKE',\n",
       "       'RIDING BIKE ON THE SIDEWALK', 'URINATING IN PUBLIC',\n",
       "       'FAILURE TO COMPLY WITH SIGN', 'CONSUMPTION OF ALCOHOL',\n",
       "       'NO TRIP SHEET', 'NOISE (UNREASONABLE)', 'NOISE (ENGINE EXHAUST)'],\n",
       "      dtype=object)"
      ]
     },
     "execution_count": 6,
     "metadata": {},
     "output_type": "execute_result"
    }
   ],
   "source": [
    "df.OFFENSE_DESCRIPTION.unique()"
   ]
  },
  {
   "cell_type": "code",
   "execution_count": 7,
   "metadata": {},
   "outputs": [
    {
     "data": {
      "text/plain": [
       "<matplotlib.axes._subplots.AxesSubplot at 0x11a6ee048>"
      ]
     },
     "execution_count": 7,
     "metadata": {},
     "output_type": "execute_result"
    },
    {
     "data": {
      "image/png": "[encoded data removed]",
      "text/plain": [
       "<Figure size 432x288 with 1 Axes>"
      ]
     },
     "metadata": {
      "needs_background": "light"
     },
     "output_type": "display_data"
    }
   ],
   "source": [
    "pd.value_counts(df['OFFENSE_DESCRIPTION']).plot.bar()"
   ]
  },
  {
   "cell_type": "code",
   "execution_count": 8,
   "metadata": {},
   "outputs": [
    {
     "data": {
      "image/png": "[encoded data removed]",
      "text/plain": [
       "<Figure size 432x288 with 1 Axes>"
      ]
     },
     "metadata": {
      "needs_background": "light"
     },
     "output_type": "display_data"
    }
   ],
   "source": [
    "pd.value_counts(df['DATE'].dt.year).sort_index().plot.bar().get_figure().savefig('Bike Summons By Year.jpg', kind='jpg')"
   ]
  },
  {
   "cell_type": "code",
   "execution_count": 9,
   "metadata": {},
   "outputs": [
    {
     "data": {
      "text/plain": [
       "array(['Administrative Code', 'Park Regs', 'Other'], dtype=object)"
      ]
     },
     "execution_count": 9,
     "metadata": {},
     "output_type": "execute_result"
    }
   ],
   "source": [
    "df.LAW_DESCRIPTION.unique()"
   ]
  },
  {
   "cell_type": "code",
   "execution_count": 10,
   "metadata": {},
   "outputs": [
    {
     "data": {
      "text/plain": [
       "<matplotlib.axes._subplots.AxesSubplot at 0x1083fdc18>"
      ]
     },
     "execution_count": 10,
     "metadata": {},
     "output_type": "execute_result"
    },
    {
     "data": {
      "image/png": "[encoded data removed]",
      "text/plain": [
       "<Figure size 432x288 with 1 Axes>"
      ]
     },
     "metadata": {
      "needs_background": "light"
     },
     "output_type": "display_data"
    }
   ],
   "source": [
    "pd.value_counts(df['LAW_DESCRIPTION']).plot.bar()"
   ]
  },
  {
   "cell_type": "code",
   "execution_count": 11,
   "metadata": {},
   "outputs": [
    {
     "data": {
      "text/plain": [
       "Timestamp('2006-01-01 00:00:00')"
      ]
     },
     "execution_count": 11,
     "metadata": {},
     "output_type": "execute_result"
    }
   ],
   "source": [
    "df.DATE.min()"
   ]
  },
  {
   "cell_type": "code",
   "execution_count": 12,
   "metadata": {},
   "outputs": [
    {
     "data": {
      "text/plain": [
       "Timestamp('2019-12-29 00:00:00')"
      ]
     },
     "execution_count": 12,
     "metadata": {},
     "output_type": "execute_result"
    }
   ],
   "source": [
    "df.DATE.max()"
   ]
  },
  {
   "cell_type": "code",
   "execution_count": 23,
   "metadata": {},
   "outputs": [
    {
     "data": {
      "text/html": [
       "<div>\n",
       "<style scoped>\n",
       "    .dataframe tbody tr th:only-of-type {\n",
       "        vertical-align: middle;\n",
       "    }\n",
       "\n",
       "    .dataframe tbody tr th {\n",
       "        vertical-align: top;\n",
       "    }\n",
       "\n",
       "    .dataframe thead tr th {\n",
       "        text-align: left;\n",
       "    }\n",
       "\n",
       "    .dataframe thead tr:last-of-type th {\n",
       "        text-align: right;\n",
       "    }\n",
       "</style>\n",
       "<table border=\"1\" class=\"dataframe\">\n",
       "  <thead>\n",
       "    <tr>\n",
       "      <th></th>\n",
       "      <th colspan=\"8\" halign=\"left\">SUMMONS_KEY</th>\n",
       "    </tr>\n",
       "    <tr>\n",
       "      <th>RACE</th>\n",
       "      <th>AMERICAN INDIAN/ALASKAN NATIVE</th>\n",
       "      <th>ASIAN / PACIFIC ISLANDER</th>\n",
       "      <th>BLACK</th>\n",
       "      <th>BLACK HISPANIC</th>\n",
       "      <th>OTHER</th>\n",
       "      <th>UNKNOWN</th>\n",
       "      <th>WHITE</th>\n",
       "      <th>WHITE HISPANIC</th>\n",
       "    </tr>\n",
       "    <tr>\n",
       "      <th>OFFENSE_DESCRIPTION</th>\n",
       "      <th></th>\n",
       "      <th></th>\n",
       "      <th></th>\n",
       "      <th></th>\n",
       "      <th></th>\n",
       "      <th></th>\n",
       "      <th></th>\n",
       "      <th></th>\n",
       "    </tr>\n",
       "  </thead>\n",
       "  <tbody>\n",
       "    <tr>\n",
       "      <th>BICYCLE INFRACTION (COMMERCIAL)</th>\n",
       "      <td>10.0</td>\n",
       "      <td>144.0</td>\n",
       "      <td>41.0</td>\n",
       "      <td>32.0</td>\n",
       "      <td>3.0</td>\n",
       "      <td>85.0</td>\n",
       "      <td>31.0</td>\n",
       "      <td>151.0</td>\n",
       "    </tr>\n",
       "    <tr>\n",
       "      <th>BICYCLE ON SIDEWALK</th>\n",
       "      <td>8.0</td>\n",
       "      <td>70.0</td>\n",
       "      <td>684.0</td>\n",
       "      <td>154.0</td>\n",
       "      <td>NaN</td>\n",
       "      <td>352.0</td>\n",
       "      <td>143.0</td>\n",
       "      <td>460.0</td>\n",
       "    </tr>\n",
       "    <tr>\n",
       "      <th>BIKE IN PARK</th>\n",
       "      <td>NaN</td>\n",
       "      <td>14.0</td>\n",
       "      <td>33.0</td>\n",
       "      <td>13.0</td>\n",
       "      <td>NaN</td>\n",
       "      <td>54.0</td>\n",
       "      <td>126.0</td>\n",
       "      <td>43.0</td>\n",
       "    </tr>\n",
       "  </tbody>\n",
       "</table>\n",
       "</div>"
      ],
      "text/plain": [
       "                                                   SUMMONS_KEY  \\\n",
       "RACE                            AMERICAN INDIAN/ALASKAN NATIVE   \n",
       "OFFENSE_DESCRIPTION                                              \n",
       "BICYCLE INFRACTION (COMMERCIAL)                           10.0   \n",
       "BICYCLE ON SIDEWALK                                        8.0   \n",
       "BIKE IN PARK                                               NaN   \n",
       "\n",
       "                                                                 \\\n",
       "RACE                            ASIAN / PACIFIC ISLANDER  BLACK   \n",
       "OFFENSE_DESCRIPTION                                               \n",
       "BICYCLE INFRACTION (COMMERCIAL)                    144.0   41.0   \n",
       "BICYCLE ON SIDEWALK                                 70.0  684.0   \n",
       "BIKE IN PARK                                        14.0   33.0   \n",
       "\n",
       "                                                                     \\\n",
       "RACE                            BLACK HISPANIC OTHER UNKNOWN  WHITE   \n",
       "OFFENSE_DESCRIPTION                                                   \n",
       "BICYCLE INFRACTION (COMMERCIAL)           32.0   3.0    85.0   31.0   \n",
       "BICYCLE ON SIDEWALK                      154.0   NaN   352.0  143.0   \n",
       "BIKE IN PARK                              13.0   NaN    54.0  126.0   \n",
       "\n",
       "                                                \n",
       "RACE                            WHITE HISPANIC  \n",
       "OFFENSE_DESCRIPTION                             \n",
       "BICYCLE INFRACTION (COMMERCIAL)          151.0  \n",
       "BICYCLE ON SIDEWALK                      460.0  \n",
       "BIKE IN PARK                              43.0  "
      ]
     },
     "execution_count": 23,
     "metadata": {},
     "output_type": "execute_result"
    }
   ],
   "source": []
  },
  {
   "cell_type": "code",
   "execution_count": 26,
   "metadata": {},
   "outputs": [
    {
     "data": {
      "image/png": "[encoded data removed]",
      "text/plain": [
       "<Figure size 432x288 with 1 Axes>"
      ]
     },
     "metadata": {
      "needs_background": "light"
     },
     "output_type": "display_data"
    }
   ],
   "source": []
  },
  {
   "cell_type": "code",
   "execution_count": 14,
   "metadata": {},
   "outputs": [
    {
     "name": "stdout",
     "output_type": "stream",
     "text": [
      "      AMERICAN INDIAN/ALASKAN NATIVE  ASIAN / PACIFIC ISLANDER  BLACK  \\\n",
      "YEAR                                                                    \n",
      "2016                               2                        96    250   \n",
      "2017                               6                        82    253   \n",
      "2018                               2                        17     71   \n",
      "2019                               8                        33    184   \n",
      "\n",
      "      BLACK HISPANIC  OTHER  UNKNOWN  WHITE  WHITE HISPANIC  \n",
      "YEAR                                                         \n",
      "2016              72    NaN      437    130             256  \n",
      "2017              77    NaN       47    120             233  \n",
      "2018              17    1.0        3     22              57  \n",
      "2019              33    2.0        4     28             108  \n"
     ]
    },
    {
     "data": {
      "text/plain": [
       "<matplotlib.axes._subplots.AxesSubplot at 0x11acdb668>"
      ]
     },
     "execution_count": 14,
     "metadata": {},
     "output_type": "execute_result"
    },
    {
     "data": {
      "image/png": "[encoded data removed]",
      "text/plain": [
       "<Figure size 432x288 with 1 Axes>"
      ]
     },
     "metadata": {
      "needs_background": "light"
     },
     "output_type": "display_data"
    }
   ],
   "source": [
    "l = []\n",
    "years = range(2016,2020)\n",
    "for year in years:\n",
    "    l.append(pd.crosstab(df[df['YEAR']==year]['YEAR'], df['RACE'], normalize=False))\n",
    "\n",
    "summons_by_race = pd.concat(l, axis=0, sort=True)\n",
    "\n",
    "print(summons_by_race)\n",
    "\n",
    "summons_by_race.plot.bar()\n"
   ]
  },
  {
   "cell_type": "code",
   "execution_count": 15,
   "metadata": {},
   "outputs": [
    {
     "ename": "SyntaxError",
     "evalue": "invalid syntax (<ipython-input-15-bd141ad0d001>, line 1)",
     "output_type": "error",
     "traceback": [
      "\u001b[0;36m  File \u001b[0;32m\"<ipython-input-15-bd141ad0d001>\"\u001b[0;36m, line \u001b[0;32m1\u001b[0m\n\u001b[0;31m    BLACK OR HISPANIC\u001b[0m\n\u001b[0m           ^\u001b[0m\n\u001b[0;31mSyntaxError\u001b[0m\u001b[0;31m:\u001b[0m invalid syntax\n"
     ]
    }
   ],
   "source": [
    "BLACK OR HISPANIC"
   ]
  },
  {
   "cell_type": "code",
   "execution_count": 16,
   "metadata": {},
   "outputs": [
    {
     "name": "stdout",
     "output_type": "stream",
     "text": [
      "BLACK_HIS  Black/Hispanic     Other   Unknown     White\n",
      "YEAR                                                   \n",
      "2016             0.355911  0.294951  0.269089  0.080049\n",
      "2017             0.659251  0.145199  0.055035  0.140515\n",
      "2018             0.759162  0.109948  0.015707  0.115183\n",
      "2019             0.812500  0.107500  0.010000  0.070000\n"
     ]
    },
    {
     "data": {
      "image/png": "[encoded data removed]",
      "text/plain": [
       "<Figure size 432x288 with 1 Axes>"
      ]
     },
     "metadata": {
      "needs_background": "light"
     },
     "output_type": "display_data"
    }
   ],
   "source": [
    "df = df.assign(\n",
    "\n",
    "    BLACK_HIS = lambda dataframe: \n",
    "    dataframe['RACE'].map(lambda RACE: \n",
    "                          'Black/Hispanic' if RACE in ['BLACK', 'BLACK HISPANIC', 'HISPANIC', 'WHITE HISPANIC'] \n",
    "                          else 'White' if RACE=='WHITE'\n",
    "                          else 'Unknown' if RACE=='UNKNOWN'\n",
    "                         else 'Other') \n",
    ")\n",
    "\n",
    "l = []\n",
    "years = range(2016,2020)\n",
    "for year in years:\n",
    "    l.append(pd.crosstab(df[df['YEAR']==year]['YEAR'], df['BLACK_HIS'], normalize=True))\n",
    "\n",
    "summons_by_bh = pd.concat(l, axis=0, sort=True)\n",
    "\n",
    "print(summons_by_bh)\n",
    "\n",
    "summons_by_bh.plot.bar().get_figure().savefig('Bicycle Summonses By Race.jpg', kind='jpg')"
   ]
  },
  {
   "cell_type": "markdown",
   "metadata": {},
   "source": []
  },
  {
   "cell_type": "code",
   "execution_count": 17,
   "metadata": {},
   "outputs": [
    {
     "data": {
      "text/plain": [
       "(400, 19)"
      ]
     },
     "execution_count": 17,
     "metadata": {},
     "output_type": "execute_result"
    }
   ],
   "source": [
    "df[df['YEAR']==2019].shape"
   ]
  },
  {
   "cell_type": "code",
   "execution_count": 18,
   "metadata": {},
   "outputs": [
    {
     "ename": "SyntaxError",
     "evalue": "invalid syntax (<ipython-input-18-28be27371d81>, line 1)",
     "output_type": "error",
     "traceback": [
      "\u001b[0;36m  File \u001b[0;32m\"<ipython-input-18-28be27371d81>\"\u001b[0;36m, line \u001b[0;32m1\u001b[0m\n\u001b[0;31m    BLACK HISPANIC ASIAN WHITE OTHER\u001b[0m\n\u001b[0m                 ^\u001b[0m\n\u001b[0;31mSyntaxError\u001b[0m\u001b[0;31m:\u001b[0m invalid syntax\n"
     ]
    }
   ],
   "source": [
    "BLACK HISPANIC ASIAN WHITE OTHER"
   ]
  },
  {
   "cell_type": "code",
   "execution_count": 27,
   "metadata": {},
   "outputs": [
    {
     "name": "stdout",
     "output_type": "stream",
     "text": [
      "BLACK_HIS_ASIAN  Asian/PI     Black  Hispanic     Other   Unknown     White\n",
      "YEAR                                                                       \n",
      "2016             0.059113  0.153941  0.201970  0.235837  0.269089  0.080049\n",
      "2017             0.096019  0.296253  0.362998  0.049180  0.055035  0.140515\n",
      "2018             0.089005  0.371728  0.387435  0.020942  0.015707  0.115183\n",
      "2019             0.082500  0.460000  0.352500  0.025000  0.010000  0.070000\n"
     ]
    },
    {
     "data": {
      "image/png": "[encoded data removed]",
      "text/plain": [
       "<Figure size 432x288 with 1 Axes>"
      ]
     },
     "metadata": {
      "needs_background": "light"
     },
     "output_type": "display_data"
    }
   ],
   "source": [
    "race_avail = race_avail.assign(\n",
    "\n",
    "    BLACK_HIS_ASIAN = lambda dataframe: \n",
    "    dataframe['RACE'].map(lambda RACE: \n",
    "                          'Hispanic' if RACE in ['BLACK HISPANIC', 'HISPANIC', 'WHITE HISPANIC'] \n",
    "                          else 'Black' if RACE=='BLACK'\n",
    "                          else 'Asian/PI' if RACE=='ASIAN / PACIFIC ISLANDER'\n",
    "                          else 'White' if RACE=='WHITE'\n",
    "                          else 'Unknown' if RACE=='UNKNOWN'\n",
    "                         else 'Other') \n",
    ")\n",
    "\n",
    "l = []\n",
    "years = range(2016,2020)\n",
    "for year in years:\n",
    "    l.append(pd.crosstab(race_avail[race_avail['YEAR']==year]['YEAR'], race_avail['BLACK_HIS_ASIAN'], normalize=True))\n",
    "\n",
    "summons_by_bha = pd.concat(l, axis=0, sort=True)\n",
    "\n",
    "print(summons_by_bha)\n",
    "\n",
    "summons_by_bha.plot.bar().get_figure().savefig('Bicycle Summonses By Race.jpg', kind='jpg')"
   ]
  },
  {
   "cell_type": "code",
   "execution_count": 30,
   "metadata": {},
   "outputs": [
    {
     "data": {
      "image/png": "[encoded data removed]",
      "text/plain": [
       "<Figure size 432x288 with 1 Axes>"
      ]
     },
     "metadata": {
      "needs_background": "light"
     },
     "output_type": "display_data"
    }
   ],
   "source": [
    "table = race_avail[['SUMMONS_KEY', 'OFFENSE_DESCRIPTION', 'BLACK_HIS_ASIAN']].pivot_table(columns=['BLACK_HIS_ASIAN'], index=['OFFENSE_DESCRIPTION'], aggfunc=('count'))\n",
    "table\n",
    "table.plot.bar().get_figure().savefig('Infraction Type By Race 2016-2019.jpg', kind='jpg')"
   ]
  },
  {
   "cell_type": "markdown",
   "metadata": {},
   "source": [
    "## Analysis of NYPD Bike Summonses"
   ]
  },
  {
   "cell_type": "code",
   "execution_count": null,
   "metadata": {},
   "outputs": [],
   "source": []
  },
  {
   "cell_type": "code",
   "execution_count": null,
   "metadata": {},
   "outputs": [],
   "source": []
  },
  {
   "cell_type": "code",
   "execution_count": null,
   "metadata": {},
   "outputs": [],
   "source": [
    "Alice Friedman, July 2020"
   ]
  }
 ],
 "metadata": {
  "kernelspec": {
   "display_name": "Python 3",
   "language": "python",
   "name": "python3"
  },
  "language_info": {
   "codemirror_mode": {
    "name": "ipython",
    "version": 3
   },
   "file_extension": ".py",
   "mimetype": "text/x-python",
   "name": "python",
   "nbconvert_exporter": "python",
   "pygments_lexer": "ipython3",
   "version": "3.7.3"
  }
 },
 "nbformat": 4,
 "nbformat_minor": 2
}
